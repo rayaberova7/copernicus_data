{
 "cells": [
  {
   "cell_type": "markdown",
   "metadata": {},
   "source": [
    "# Sentinel Hub Process API\n",
    "\n",
    "In this example notebook we show how to use Sentinel Hub Process API to download satellite imagery. We describe how to use various parameters and configurations to obtain either processed products or raw band data. For more information about the service please check the [official service documentation](https://documentation.dataspace.copernicus.eu/APIs/SentinelHub/Process.html)."
   ]
  },
  {
   "cell_type": "markdown",
   "metadata": {},
   "source": [
    "###  Imports "
   ]
  },
  {
   "cell_type": "code",
   "execution_count": 1,
   "metadata": {},
   "outputs": [],
   "source": [
    "%reload_ext autoreload\n",
    "%autoreload 2\n",
    "%matplotlib inline"
   ]
  },
  {
   "cell_type": "code",
   "execution_count": null,
   "metadata": {},
   "outputs": [],
   "source": [
    "import datetime\n",
    "import os\n",
    "import getpass\n",
    "\n",
    "import matplotlib.pyplot as plt\n",
    "import numpy as np\n",
    "\n",
    "from sentinelhub import (\n",
    "    SHConfig,\n",
    "    CRS,\n",
    "    BBox,\n",
    "    DataCollection,\n",
    "    DownloadRequest,\n",
    "    MimeType,\n",
    "    MosaickingOrder,\n",
    "    SentinelHubDownloadClient,\n",
    "    SentinelHubRequest,\n",
    "    bbox_to_dimensions,\n",
    ")\n",
    "\n",
    "# The following is not a package. It is a file utils.py which should be in the same folder as this notebook.\n",
    "from utils import plot_image"
   ]
  },
  {
   "cell_type": "code",
   "execution_count": 3,
   "metadata": {
    "tags": []
   },
   "outputs": [],
   "source": [
    "# Only run this cell if you have not created a configuration.\n",
    "\n",
    "config = SHConfig()\n",
    "config.sh_client_id = getpass.getpass(\"Enter your SentinelHub client id\")\n",
    "config.sh_client_secret = getpass.getpass(\"Enter your SentinelHub client secret\")\n",
    "config.sh_token_url = \"https://identity.dataspace.copernicus.eu/auth/realms/CDSE/protocol/openid-connect/token\"\n",
    "config.sh_base_url = \"https://sh.dataspace.copernicus.eu\"\n",
    "config.save(\"cdse\")"
   ]
  },
  {
   "cell_type": "code",
   "execution_count": null,
   "metadata": {},
   "outputs": [],
   "source": [
    "# config = SHConfig(\"profile_name\")"
   ]
  },
  {
   "cell_type": "markdown",
   "metadata": {},
   "source": [
    "### Setting area of interest"
   ]
  },
  {
   "cell_type": "code",
   "execution_count": null,
   "metadata": {},
   "outputs": [],
   "source": [
    "from shapely.geometry import Polygon\n",
    "from constants import polygons_europe\n",
    "\n",
    "def get_bbox_from_polygons(polygons):\n",
    "    \"\"\"\n",
    "    Calcule la bounding box d'une liste de polygones.\n",
    "\n",
    "    Args:\n",
    "        polygons (list): Liste de polygones, chaque polygone étant une liste de coordonnées [(lon, lat), ...]\n",
    "\n",
    "    Returns:\n",
    "        tuple: Bounding box sous la forme (min_lon, min_lat, max_lon, max_lat)\n",
    "    \"\"\"\n",
    "    min_lon, min_lat = float('inf'), float('inf')\n",
    "    max_lon, max_lat = float('-inf'), float('-inf')\n",
    "\n",
    "    for poly in polygons:\n",
    "        # Créer un objet Polygon à partir des coordonnées du polygone\n",
    "        shapely_poly = Polygon(poly)\n",
    "\n",
    "        # Obtenir les coordonnées de la bounding box du polygone\n",
    "        minx, miny, maxx, maxy = shapely_poly.bounds\n",
    "\n",
    "        # Mettre à jour la bbox globale\n",
    "        min_lon = min(min_lon, minx)\n",
    "        min_lat = min(min_lat, miny)\n",
    "        max_lon = max(max_lon, maxx)\n",
    "        max_lat = max(max_lat, maxy)\n",
    "\n",
    "    return (min_lon, min_lat, max_lon, max_lat)\n",
    "\n",
    "# Exemple d'utilisation avec une liste de polygones\n",
    "polygons = polygons_europe\n",
    "bbox = get_bbox_from_polygons(polygons)\n",
    "print(\"Bounding Box Europe:\", bbox)\n"
   ]
  },
  {
   "cell_type": "code",
   "execution_count": 5,
   "metadata": {},
   "outputs": [],
   "source": [
    "from shapely.geometry import Polygon, box\n",
    "polygon_europe = Polygon(polygons[0])"
   ]
  },
  {
   "cell_type": "code",
   "execution_count": null,
   "metadata": {},
   "outputs": [],
   "source": [
    "polygon_europe"
   ]
  },
  {
   "cell_type": "code",
   "execution_count": null,
   "metadata": {},
   "outputs": [],
   "source": [
    "def divide_bbox(bbox, n_parts=50000):\n",
    "    \"\"\"\n",
    "    Divise une bbox en une grille de n_parts sous-bbox.\n",
    "\n",
    "    Args:\n",
    "        bbox (tuple): La bounding box sous la forme (min_lon, min_lat, max_lon, max_lat).\n",
    "        n_parts (int): Nombre approximatif de divisions souhaitées.\n",
    "\n",
    "    Returns:\n",
    "        list: Liste des sous-bounding boxes sous la forme [(min_lon, min_lat, max_lon, max_lat), ...].\n",
    "    \"\"\"\n",
    "    min_lon, min_lat, max_lon, max_lat = bbox\n",
    "\n",
    "    # Calcul de la largeur et hauteur totale de la bbox\n",
    "    bbox_width = max_lon - min_lon\n",
    "    bbox_height = max_lat - min_lat\n",
    "\n",
    "    # Calculer un rapport largeur/hauteur pour une répartition équilibrée\n",
    "    aspect_ratio = bbox_width / bbox_height\n",
    "\n",
    "    # Déterminer le nombre optimal de lignes et colonnes pour obtenir environ n_parts cellules\n",
    "    cols = int((n_parts * aspect_ratio) ** 0.5)\n",
    "    rows = int(n_parts / cols)\n",
    "\n",
    "    # Ajuster si nécessaire\n",
    "    if cols * rows < n_parts:\n",
    "        cols += 1\n",
    "\n",
    "    # Calculer la taille d'une cellule\n",
    "    cell_width = bbox_width / cols\n",
    "    cell_height = bbox_height / rows\n",
    "\n",
    "    # Générer les sous-bbox\n",
    "    sub_bboxes = []\n",
    "    for row in range(rows):\n",
    "        for col in range(cols):\n",
    "            sub_min_lon = min_lon + col * cell_width\n",
    "            sub_max_lon = sub_min_lon + cell_width\n",
    "            sub_min_lat = min_lat + row * cell_height\n",
    "            sub_max_lat = sub_min_lat + cell_height\n",
    "\n",
    "            # Ajouter la sous-bbox à la liste\n",
    "            sub_bboxes.append((sub_min_lon, sub_min_lat, sub_max_lon, sub_max_lat))\n",
    "\n",
    "    return sub_bboxes\n",
    "\n",
    "# Diviser la bbox europe pour avoir des images de taille < à 2500 pixels pour une résolution de 10m :\n",
    "sub_bboxes = divide_bbox(bbox, n_parts=50000)\n",
    "\n",
    "# Affichage du résultat\n",
    "print(f\"Nombre de sous-bounding boxes : {len(sub_bboxes)}\")\n",
    "print(\"Exemple de sous-bbox :\", sub_bboxes[:5])  # Affiche les 5 premières\n"
   ]
  },
  {
   "cell_type": "code",
   "execution_count": 8,
   "metadata": {},
   "outputs": [],
   "source": [
    "from shapely.geometry import Polygon, box\n",
    "\n",
    "sub_bboxes_included = []\n",
    "for ss_box in sub_bboxes:\n",
    "    ss_bbox = box(*ss_box)\n",
    "    intersection = polygon_europe.intersection(ss_bbox)\n",
    "\n",
    "    # Calcul des aires\n",
    "    intersection_area = intersection.area\n",
    "    bbox_area = ss_bbox.area\n",
    "\n",
    "    # Vérification si au moins 20% de la bbox est incluse\n",
    "    percentage_included = (intersection_area / bbox_area) * 100\n",
    "    is_included = percentage_included >= 20\n",
    "    if is_included:\n",
    "        sub_bboxes_included.append(ss_box)"
   ]
  },
  {
   "cell_type": "code",
   "execution_count": null,
   "metadata": {},
   "outputs": [],
   "source": [
    "len(sub_bboxes_included)"
   ]
  },
  {
   "cell_type": "code",
   "execution_count": null,
   "metadata": {},
   "outputs": [],
   "source": [
    "resolution = 10\n",
    "zone_bbox = BBox(bbox=list(sub_bboxes_included[5000]), crs=CRS.WGS84)\n",
    "zone_size = bbox_to_dimensions(zone_bbox, resolution=resolution)\n",
    "\n",
    "print(f\"Image shape at {resolution} m resolution: {zone_size} pixels\")\n",
    "\n",
    "evalscript_all_bands = \"\"\"\n",
    "    //VERSION=3\n",
    "    function setup() {\n",
    "        return {\n",
    "            input: [{\n",
    "                bands: [\"B01\",\"B02\",\"B03\",\"B04\",\"B05\",\"B06\",\"B07\",\"B08\",\"B8A\",\"B09\",\"B10\",\"B11\",\"B12\"],\n",
    "                units: \"DN\"\n",
    "            }],\n",
    "            output: {\n",
    "                bands: 13,\n",
    "                sampleType: \"INT16\"\n",
    "            }\n",
    "        };\n",
    "    }\n",
    "\n",
    "    function evaluatePixel(sample) {\n",
    "        return [sample.B01,\n",
    "                sample.B02,\n",
    "                sample.B03,\n",
    "                sample.B04,\n",
    "                sample.B05,\n",
    "                sample.B06,\n",
    "                sample.B07,\n",
    "                sample.B08,\n",
    "                sample.B8A,\n",
    "                sample.B09,\n",
    "                sample.B10,\n",
    "                sample.B11,\n",
    "                sample.B12];\n",
    "    }\n",
    "\"\"\""
   ]
  },
  {
   "cell_type": "code",
   "execution_count": 13,
   "metadata": {},
   "outputs": [],
   "source": [
    "def transform_string(input_string):\n",
    "    # Remplace les caractères selon les règles spécifiées\n",
    "    result = input_string.replace('(', '').replace(')', '').replace(', ', '_').replace('.', ',')\n",
    "    return result\n",
    "filename = transform_string(str(sub_bboxes_included[5000]))"
   ]
  },
  {
   "cell_type": "code",
   "execution_count": 14,
   "metadata": {},
   "outputs": [],
   "source": [
    "request_all_bands = SentinelHubRequest(\n",
    "    data_folder=\"europe_2023/\"+filename,\n",
    "    evalscript=evalscript_all_bands,\n",
    "    input_data=[\n",
    "        SentinelHubRequest.input_data(\n",
    "            data_collection=DataCollection.SENTINEL2_L1C.define_from(\n",
    "                \"s2l1c\", service_url=config.sh_base_url\n",
    "            ),\n",
    "            time_interval=(\"2023-01-01\", \"2023-01-30\"),\n",
    "            mosaicking_order=MosaickingOrder.LEAST_CC,\n",
    "        )\n",
    "    ],\n",
    "    responses=[SentinelHubRequest.output_response(\"default\", MimeType.TIFF)],\n",
    "    bbox=zone_bbox,\n",
    "    size=zone_size,\n",
    "    config=config,\n",
    ")"
   ]
  },
  {
   "cell_type": "code",
   "execution_count": null,
   "metadata": {},
   "outputs": [],
   "source": [
    "%%time\n",
    "all_bands_img = request_all_bands.get_data(save_data=True)"
   ]
  },
  {
   "cell_type": "code",
   "execution_count": null,
   "metadata": {},
   "outputs": [],
   "source": [
    "# True color image\n",
    "plot_image(all_bands_img[0][:, :, [3, 2, 1]], factor=3.5 / 1e4, clip_range=(0, 1))"
   ]
  },
  {
   "cell_type": "code",
   "execution_count": null,
   "metadata": {},
   "outputs": [],
   "source": [
    "%%time\n",
    "# try to re-download the data\n",
    "all_bands_img_from_disk = request_all_bands.get_data()"
   ]
  },
  {
   "cell_type": "code",
   "execution_count": null,
   "metadata": {},
   "outputs": [],
   "source": [
    "%%time\n",
    "# force the redownload\n",
    "all_bands_img_redownload = request_all_bands.get_data(redownload=True)"
   ]
  },
  {
   "cell_type": "markdown",
   "metadata": {},
   "source": [
    "### Example 4.1: Save downloaded data directly to disk\n",
    "\n",
    "The `get_data` method returns a list of numpy arrays and can save the downloaded data to disk, as we have seen in the previous example. Sometimes it is convenient to just save the data directly to disk. You can do that by using `save_data` method instead."
   ]
  },
  {
   "cell_type": "code",
   "execution_count": null,
   "metadata": {},
   "outputs": [],
   "source": [
    "%%time\n",
    "request_all_bands.save_data()"
   ]
  },
  {
   "cell_type": "code",
   "execution_count": null,
   "metadata": {},
   "outputs": [],
   "source": [
    "print(\n",
    "    \"The output directory has been created and a tiff file with all 13 bands was saved into the following structure:\\n\"\n",
    ")\n",
    "\n",
    "for folder, _, filenames in os.walk(request_all_bands.data_folder):\n",
    "    for filename in filenames:\n",
    "        print(os.path.join(folder, filename))"
   ]
  },
  {
   "cell_type": "markdown",
   "metadata": {},
   "source": [
    "## Example 5: Other Data Collections\n",
    "\n",
    "The `sentinelhub-py` package supports various data collections. The example below is shown for one of them, but the process is the same for all of them.\n",
    "\n",
    "\n",
    "<div class=\"alert alert-info\">\n",
    "\n",
    "<b>Note:</b>\n",
    "    \n",
    "For more examples and information check the [documentation about Sentinel Hub data collections](https://documentation.dataspace.copernicus.eu/APIs/SentinelHub/Data.html).\n",
    "</div>"
   ]
  },
  {
   "cell_type": "code",
   "execution_count": null,
   "metadata": {},
   "outputs": [],
   "source": [
    "print(\"Supported DataCollections:\\n\")\n",
    "for collection in DataCollection.get_available_collections():\n",
    "    print(collection)"
   ]
  },
  {
   "cell_type": "markdown",
   "metadata": {},
   "source": [
    "For this example let's download the digital elevation model data (DEM). The process is similar as before, we just provide the evalscript and create the request. More data on the `DEM` data collection is available [here](https://documentation.dataspace.copernicus.eu/APIs/SentinelHub/Data/DEM.html). `DEM` values are in meters and can be negative for areas which lie below sea level, so it is recommended to set the output format in your evalscript to `FLOAT32`."
   ]
  },
  {
   "cell_type": "code",
   "execution_count": null,
   "metadata": {},
   "outputs": [],
   "source": [
    "evalscript_dem = \"\"\"\n",
    "//VERSION=3\n",
    "function setup() {\n",
    "  return {\n",
    "    input: [\"DEM\"],\n",
    "    output:{\n",
    "      id: \"default\",\n",
    "      bands: 1,\n",
    "      sampleType: SampleType.FLOAT32\n",
    "    }\n",
    "  }\n",
    "}\n",
    "\n",
    "function evaluatePixel(sample) {\n",
    "  return [sample.DEM]\n",
    "}\n",
    "\"\"\""
   ]
  },
  {
   "cell_type": "code",
   "execution_count": null,
   "metadata": {},
   "outputs": [],
   "source": [
    "dem_request = SentinelHubRequest(\n",
    "    evalscript=evalscript_dem,\n",
    "    input_data=[\n",
    "        SentinelHubRequest.input_data(\n",
    "            data_collection=DataCollection.DEM.define_from(\n",
    "                \"dem\", service_url=config.sh_base_url\n",
    "            ),\n",
    "            time_interval=(\"2020-06-12\", \"2020-06-13\"),\n",
    "        )\n",
    "    ],\n",
    "    responses=[SentinelHubRequest.output_response(\"default\", MimeType.TIFF)],\n",
    "    bbox=zone_bbox,\n",
    "    size=zone_size,\n",
    "    config=config,\n",
    ")"
   ]
  },
  {
   "cell_type": "code",
   "execution_count": null,
   "metadata": {},
   "outputs": [],
   "source": [
    "dem_data = dem_request.get_data()"
   ]
  },
  {
   "cell_type": "code",
   "execution_count": null,
   "metadata": {},
   "outputs": [],
   "source": [
    "# Plot DEM map\n",
    "# vmin = 0; cutoff at sea level (0 m)\n",
    "# vmax = 120; cutoff at high values (120 m)\n",
    "plot_image(dem_data[0], factor=1.0, cmap=plt.cm.Greys_r, vmin=0, vmax=120)"
   ]
  },
  {
   "cell_type": "markdown",
   "metadata": {},
   "source": [
    "## Example 6 : Multi-response request type\n",
    "\n",
    "Process API enables downloading multiple files in one response, packed together in a TAR archive.\n",
    "\n",
    "We will get the same image as before, download in the form of digital numbers (DN) as a UINT16 TIFF file. Along with the image we will download the `inputMetadata` which contains the normalization factor value in a JSON format. \n",
    "\n",
    "After the download we will be able to convert the `INT16` digital numbers to get the `FLOAT32` reflectances."
   ]
  },
  {
   "cell_type": "code",
   "execution_count": null,
   "metadata": {},
   "outputs": [],
   "source": [
    "evalscript = \"\"\"\n",
    "    //VERSION=3\n",
    "\n",
    "    function setup() {\n",
    "        return {\n",
    "            input: [{\n",
    "                bands: [\"B02\", \"B03\", \"B04\"],\n",
    "                units: \"DN\"\n",
    "            }],\n",
    "            output: {\n",
    "                bands: 3,\n",
    "                sampleType: \"INT16\"\n",
    "            }\n",
    "        };\n",
    "    }\n",
    "\n",
    "    function updateOutputMetadata(scenes, inputMetadata, outputMetadata) {\n",
    "        outputMetadata.userData = { \"norm_factor\":  inputMetadata.normalizationFactor }\n",
    "    }\n",
    "\n",
    "    function evaluatePixel(sample) {\n",
    "        return [sample.B04, sample.B03, sample.B02];\n",
    "    }\n",
    "\"\"\"\n",
    "\n",
    "request_multitype = SentinelHubRequest(\n",
    "    evalscript=evalscript,\n",
    "    input_data=[\n",
    "        SentinelHubRequest.input_data(\n",
    "            data_collection=DataCollection.SENTINEL2_L1C.define_from(\n",
    "                \"s2l1c\", service_url=config.sh_base_url\n",
    "            ),\n",
    "            time_interval=(\"2020-06-01\", \"2020-06-30\"),\n",
    "            mosaicking_order=MosaickingOrder.LEAST_CC,\n",
    "        )\n",
    "    ],\n",
    "    responses=[\n",
    "        SentinelHubRequest.output_response(\"default\", MimeType.TIFF),\n",
    "        SentinelHubRequest.output_response(\"userdata\", MimeType.JSON),\n",
    "    ],\n",
    "    bbox=zone_bbox,\n",
    "    size=zone_size,\n",
    "    config=config,\n",
    ")"
   ]
  },
  {
   "cell_type": "code",
   "execution_count": null,
   "metadata": {},
   "outputs": [],
   "source": [
    "# print out information\n",
    "multi_data = request_multitype.get_data()[0]\n",
    "multi_data.keys()"
   ]
  },
  {
   "cell_type": "code",
   "execution_count": null,
   "metadata": {},
   "outputs": [],
   "source": [
    "# normalize image\n",
    "img = multi_data[\"default.tif\"]\n",
    "norm_factor = multi_data[\"userdata.json\"][\"norm_factor\"]\n",
    "\n",
    "img_float32 = img * norm_factor"
   ]
  },
  {
   "cell_type": "code",
   "execution_count": null,
   "metadata": {},
   "outputs": [],
   "source": [
    "plot_image(img_float32, factor=3.5, clip_range=(0, 1))"
   ]
  },
  {
   "cell_type": "markdown",
   "metadata": {},
   "source": [
    "## Example 7 : Raw dictionary request\n",
    "\n",
    "All requests so far were built with some helper functions. We can also construct a raw dictionary as defined in the [API Reference](https://documentation.dataspace.copernicus.eu/APIs/SentinelHub/ApiReference.html), without these helper functions, so we have full control over building the request body."
   ]
  },
  {
   "cell_type": "code",
   "execution_count": null,
   "metadata": {},
   "outputs": [],
   "source": [
    "request_raw_dict = {\n",
    "    \"input\": {\n",
    "        \"bounds\": {\n",
    "            \"properties\": {\"crs\": zone_bbox.crs.opengis_string},\n",
    "            \"bbox\": list(zone_bbox),\n",
    "        },\n",
    "        \"data\": [\n",
    "            {\n",
    "                \"type\": \"S2L1C\",\n",
    "                \"dataFilter\": {\n",
    "                    \"timeRange\": {\n",
    "                        \"from\": \"2020-06-01T00:00:00Z\",\n",
    "                        \"to\": \"2020-06-30T00:00:00Z\",\n",
    "                    },\n",
    "                    \"mosaickingOrder\": \"leastCC\",\n",
    "                },\n",
    "            }\n",
    "        ],\n",
    "    },\n",
    "    \"output\": {\n",
    "        \"width\": zone_size[0],\n",
    "        \"height\": zone_size[1],\n",
    "        \"responses\": [\n",
    "            {\"identifier\": \"default\", \"format\": {\"type\": MimeType.TIFF.get_string()}}\n",
    "        ],\n",
    "    },\n",
    "    \"evalscript\": evalscript_true_color,\n",
    "}"
   ]
  },
  {
   "cell_type": "code",
   "execution_count": null,
   "metadata": {},
   "outputs": [],
   "source": [
    "# create request\n",
    "download_request = DownloadRequest(\n",
    "    request_type=\"POST\",\n",
    "    url=\"https://sh.dataspace.copernicus.eu/api/v1/process\",\n",
    "    post_values=request_raw_dict,\n",
    "    data_type=MimeType.TIFF,\n",
    "    headers={\"content-type\": \"application/json\"},\n",
    "    use_session=True,\n",
    ")\n",
    "\n",
    "# execute request\n",
    "client = SentinelHubDownloadClient(config=config)\n",
    "img = client.download(download_request)"
   ]
  },
  {
   "cell_type": "code",
   "execution_count": null,
   "metadata": {},
   "outputs": [],
   "source": [
    "plot_image(img, factor=3.5 / 255, clip_range=(0, 1))"
   ]
  },
  {
   "cell_type": "markdown",
   "metadata": {},
   "source": [
    "## Example 8 : Multiple timestamps data\n",
    "\n",
    "It is possible to construct some logic in order to return data for multiple timestamps. By defining the `time_interval` parameter and some logic of splitting it, it is possible to create an SH reques per each \"time slot\" and then download the data from all the requests with the `SentinelHubDownloadClient` in `sentinelhub-py`. In this example we will create least cloudy monthly images for the year 2019.\n",
    "\n",
    "However, this is already a functionality built on top of this SH API package. We have extended the support for such usage in our package [eo-learn](https://github.com/sentinel-hub/eo-learn). We recommend to use `eo-learn` for more complex cases where you need multiple timestamps or high-resolution data for larger areas."
   ]
  },
  {
   "cell_type": "code",
   "execution_count": null,
   "metadata": {},
   "outputs": [],
   "source": [
    "start = datetime.datetime(2019, 1, 1)\n",
    "end = datetime.datetime(2019, 12, 31)\n",
    "n_chunks = 13\n",
    "tdelta = (end - start) / n_chunks\n",
    "edges = [(start + i * tdelta).date().isoformat() for i in range(n_chunks)]\n",
    "slots = [(edges[i], edges[i + 1]) for i in range(len(edges) - 1)]\n",
    "\n",
    "print(\"Monthly time windows:\\n\")\n",
    "for slot in slots:\n",
    "    print(slot)"
   ]
  },
  {
   "cell_type": "code",
   "execution_count": null,
   "metadata": {},
   "outputs": [],
   "source": [
    "def get_true_color_request(time_interval):\n",
    "    return SentinelHubRequest(\n",
    "        evalscript=evalscript_true_color,\n",
    "        input_data=[\n",
    "            SentinelHubRequest.input_data(\n",
    "                data_collection=DataCollection.SENTINEL2_L1C.define_from(\n",
    "                    \"s2l1c\", service_url=config.sh_base_url\n",
    "                ),\n",
    "                time_interval=time_interval,\n",
    "                mosaicking_order=MosaickingOrder.LEAST_CC,\n",
    "            )\n",
    "        ],\n",
    "        responses=[SentinelHubRequest.output_response(\"default\", MimeType.PNG)],\n",
    "        bbox=zone_bbox,\n",
    "        size=zone_size,\n",
    "        config=config,\n",
    "    )"
   ]
  },
  {
   "cell_type": "code",
   "execution_count": null,
   "metadata": {},
   "outputs": [],
   "source": [
    "# create a list of requests\n",
    "list_of_requests = [get_true_color_request(slot) for slot in slots]\n",
    "list_of_requests = [request.download_list[0] for request in list_of_requests]\n",
    "\n",
    "# download data with multiple threads\n",
    "data = SentinelHubDownloadClient(config=config).download(\n",
    "    list_of_requests, max_threads=5\n",
    ")"
   ]
  },
  {
   "cell_type": "code",
   "execution_count": null,
   "metadata": {},
   "outputs": [],
   "source": [
    "# some stuff for pretty plots\n",
    "ncols = 4\n",
    "nrows = 3\n",
    "aspect_ratio = zone_size[0] / zone_size[1]\n",
    "subplot_kw = {\"xticks\": [], \"yticks\": [], \"frame_on\": False}\n",
    "\n",
    "fig, axs = plt.subplots(\n",
    "    ncols=ncols,\n",
    "    nrows=nrows,\n",
    "    figsize=(5 * ncols * aspect_ratio, 5 * nrows),\n",
    "    subplot_kw=subplot_kw,\n",
    ")\n",
    "\n",
    "for idx, image in enumerate(data):\n",
    "    ax = axs[idx // ncols][idx % ncols]\n",
    "    ax.imshow(np.clip(image * 2.5 / 255, 0, 1))\n",
    "    ax.set_title(f\"{slots[idx][0]}  -  {slots[idx][1]}\", fontsize=10)\n",
    "\n",
    "plt.tight_layout()"
   ]
  },
  {
   "cell_type": "code",
   "execution_count": null,
   "metadata": {},
   "outputs": [],
   "source": []
  }
 ],
 "metadata": {
  "hide_input": false,
  "kernelspec": {
   "display_name": "base",
   "language": "python",
   "name": "python3"
  },
  "language_info": {
   "codemirror_mode": {
    "name": "ipython",
    "version": 3
   },
   "file_extension": ".py",
   "mimetype": "text/x-python",
   "name": "python",
   "nbconvert_exporter": "python",
   "pygments_lexer": "ipython3",
   "version": "3.12.7"
  },
  "toc": {
   "base_numbering": 1,
   "nav_menu": {},
   "number_sections": false,
   "sideBar": true,
   "skip_h1_title": true,
   "title_cell": "Table of Contents",
   "title_sidebar": "Contents",
   "toc_cell": true,
   "toc_position": {
    "height": "calc(100% - 180px)",
    "left": "10px",
    "top": "150px",
    "width": "361px"
   },
   "toc_section_display": true,
   "toc_window_display": false
  },
  "toc-autonumbering": false,
  "toc-showcode": false,
  "toc-showmarkdowntxt": false,
  "toc-showtags": false
 },
 "nbformat": 4,
 "nbformat_minor": 4
}
